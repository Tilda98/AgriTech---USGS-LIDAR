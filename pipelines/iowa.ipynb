{
 "cells": [
  {
   "cell_type": "code",
   "execution_count": 19,
   "metadata": {},
   "outputs": [],
   "source": [
    "import pdal\n",
    "import json\n",
    "import geopandas as gpd\n",
    "import folium\n",
    "from pyproj import Proj, transform\n",
    "from shapely.geometry import Polygon, Point, mapping\n",
    "import warnings\n",
    "import matplotlib.pyplot as plt\n",
    "warnings.filterwarnings(\"ignore\")"
   ]
  },
  {
   "cell_type": "code",
   "execution_count": 3,
   "metadata": {},
   "outputs": [],
   "source": [
    "# Loading and reading the json file\n",
    "def read_json(json_path):\n",
    "    try:\n",
    "        with open(json_path) as js:\n",
    "            json_obj = json.load(js)\n",
    "        return json_obj\n",
    "\n",
    "    except FileNotFoundError:\n",
    "        print('File not found.')"
   ]
  },
  {
   "cell_type": "code",
   "execution_count": 8,
   "metadata": {},
   "outputs": [],
   "source": [
    "# Changing to the needed CRS format for better visualization\n",
    "\n",
    "def convert_EPSG(fromT, lon, lat):\n",
    "    P3857 = Proj(init='epsg:3857')\n",
    "    P4326 = Proj(init='epsg:4326')\n",
    "    if(fromT == 4326):\n",
    "        input1 = P4326\n",
    "        input2 = P3857\n",
    "    else:\n",
    "        input1=p3857\n",
    "        input2=p4326\n",
    "        \n",
    "    x, y = transform(input1,input2, lon, lat)\n",
    "    return [x, y]"
   ]
  },
  {
   "cell_type": "code",
   "execution_count": 9,
   "metadata": {},
   "outputs": [],
   "source": [
    "# Changing format of a list\n",
    "    \n",
    "def loop_EPSG_converter(listin):\n",
    "    converted = []\n",
    "    for item in listin:\n",
    "        converted.append(convert_EPSG(4326, item[0], item[1]))\n",
    "        \n",
    "    return converted"
   ]
  },
  {
   "cell_type": "code",
   "execution_count": 12,
   "metadata": {},
   "outputs": [],
   "source": [
    "# Generating a polygon given a co-ordinate and CRS format\n",
    "\n",
    "def generate_polygon(coor, epsg):\n",
    "    polygon_g = Polygon(coor)\n",
    "    crs = {'init': 'epsg:'+str(epsg)}\n",
    "    polygon = gpd.GeoDataFrame(index=[0], crs=crs, geometry=[polygon_g])       \n",
    "    return polygon"
   ]
  },
  {
   "cell_type": "code",
   "execution_count": 13,
   "metadata": {},
   "outputs": [],
   "source": [
    "# Generating a data frame given a CRS format and pipe\n",
    "\n",
    "def generate_geo_df(pipe, epsg):\n",
    "    try:\n",
    "        cloud_points = []\n",
    "        elevations =[]\n",
    "        geometry_points=[]\n",
    "        for row in pipe.arrays[0]:\n",
    "            lst = row.tolist()[-3:]\n",
    "            cloud_points.append(lst)\n",
    "            elevations.append(lst[2])\n",
    "            point = Point(lst[0], lst[1])\n",
    "            geometry_points.append(point)\n",
    "        geodf = gpd.GeoDataFrame(columns=[\"elevation\", \"geometry\"])\n",
    "        geodf['elevation'] = elevations\n",
    "        geodf['geometry'] = geometry_points\n",
    "        geodf = geodf.set_geometry(\"geometry\")\n",
    "        geodf.set_crs(epsg = epsg, inplace=True)\n",
    "        return geodf\n",
    "    except RuntimeError as e:\n",
    "        print(e)"
   ]
  },
  {
   "cell_type": "code",
   "execution_count": 25,
   "metadata": {},
   "outputs": [],
   "source": [
    "# Co-ordinates for the polygon and generating the polygon from the given co-ordinate\n",
    "\n",
    "coordinates = [\n",
    "    [-93.756055, 41.918115],\n",
    "    [-93.756155, 41.918215],\n",
    "    [-93.756396, 41.918475],\n",
    "    [-93.755955, 41.918300],\n",
    "    [-93.755795, 41.918000],\n",
    "]\n",
    "\n",
    "\n",
    "polygon = generate_polygon(coordinates, 4326)"
   ]
  },
  {
   "cell_type": "code",
   "execution_count": 26,
   "metadata": {},
   "outputs": [
    {
     "data": {
      "text/html": [
       "<div style=\"width:100%;\"><div style=\"position:relative;width:100%;height:0;padding-bottom:60%;\"><span style=\"color:#565656\">Make this Notebook Trusted to load map: File -> Trust Notebook</span><iframe srcdoc=\"&lt;!DOCTYPE html&gt;\n",
       "&lt;head&gt;    \n",
       "    &lt;meta http-equiv=&quot;content-type&quot; content=&quot;text/html; charset=UTF-8&quot; /&gt;\n",
       "    \n",
       "        &lt;script&gt;\n",
       "            L_NO_TOUCH = false;\n",
       "            L_DISABLE_3D = false;\n",
       "        &lt;/script&gt;\n",
       "    \n",
       "    &lt;style&gt;html, body {width: 100%;height: 100%;margin: 0;padding: 0;}&lt;/style&gt;\n",
       "    &lt;style&gt;#map {position:absolute;top:0;bottom:0;right:0;left:0;}&lt;/style&gt;\n",
       "    &lt;script src=&quot;https://cdn.jsdelivr.net/npm/leaflet@1.6.0/dist/leaflet.js&quot;&gt;&lt;/script&gt;\n",
       "    &lt;script src=&quot;https://code.jquery.com/jquery-1.12.4.min.js&quot;&gt;&lt;/script&gt;\n",
       "    &lt;script src=&quot;https://maxcdn.bootstrapcdn.com/bootstrap/3.2.0/js/bootstrap.min.js&quot;&gt;&lt;/script&gt;\n",
       "    &lt;script src=&quot;https://cdnjs.cloudflare.com/ajax/libs/Leaflet.awesome-markers/2.0.2/leaflet.awesome-markers.js&quot;&gt;&lt;/script&gt;\n",
       "    &lt;link rel=&quot;stylesheet&quot; href=&quot;https://cdn.jsdelivr.net/npm/leaflet@1.6.0/dist/leaflet.css&quot;/&gt;\n",
       "    &lt;link rel=&quot;stylesheet&quot; href=&quot;https://maxcdn.bootstrapcdn.com/bootstrap/3.2.0/css/bootstrap.min.css&quot;/&gt;\n",
       "    &lt;link rel=&quot;stylesheet&quot; href=&quot;https://maxcdn.bootstrapcdn.com/bootstrap/3.2.0/css/bootstrap-theme.min.css&quot;/&gt;\n",
       "    &lt;link rel=&quot;stylesheet&quot; href=&quot;https://maxcdn.bootstrapcdn.com/font-awesome/4.6.3/css/font-awesome.min.css&quot;/&gt;\n",
       "    &lt;link rel=&quot;stylesheet&quot; href=&quot;https://cdnjs.cloudflare.com/ajax/libs/Leaflet.awesome-markers/2.0.2/leaflet.awesome-markers.css&quot;/&gt;\n",
       "    &lt;link rel=&quot;stylesheet&quot; href=&quot;https://cdn.jsdelivr.net/gh/python-visualization/folium/folium/templates/leaflet.awesome.rotate.min.css&quot;/&gt;\n",
       "    \n",
       "            &lt;meta name=&quot;viewport&quot; content=&quot;width=device-width,\n",
       "                initial-scale=1.0, maximum-scale=1.0, user-scalable=no&quot; /&gt;\n",
       "            &lt;style&gt;\n",
       "                #map_05d92ff7273306de59c07380d5ae1d4d {\n",
       "                    position: relative;\n",
       "                    width: 100.0%;\n",
       "                    height: 100.0%;\n",
       "                    left: 0.0%;\n",
       "                    top: 0.0%;\n",
       "                }\n",
       "            &lt;/style&gt;\n",
       "        \n",
       "&lt;/head&gt;\n",
       "&lt;body&gt;    \n",
       "    \n",
       "            &lt;div class=&quot;folium-map&quot; id=&quot;map_05d92ff7273306de59c07380d5ae1d4d&quot; &gt;&lt;/div&gt;\n",
       "        \n",
       "&lt;/body&gt;\n",
       "&lt;script&gt;    \n",
       "    \n",
       "            var map_05d92ff7273306de59c07380d5ae1d4d = L.map(\n",
       "                &quot;map_05d92ff7273306de59c07380d5ae1d4d&quot;,\n",
       "                {\n",
       "                    center: [41.918115, -93.756055],\n",
       "                    crs: L.CRS.EPSG3857,\n",
       "                    zoom: 20,\n",
       "                    zoomControl: true,\n",
       "                    preferCanvas: false,\n",
       "                }\n",
       "            );\n",
       "\n",
       "            \n",
       "\n",
       "        \n",
       "    \n",
       "            var tile_layer_16845aa094062ea29e33e6069d790904 = L.tileLayer(\n",
       "                &quot;https://cartodb-basemaps-{s}.global.ssl.fastly.net/light_all/{z}/{x}/{y}.png&quot;,\n",
       "                {&quot;attribution&quot;: &quot;\\u0026copy; \\u003ca href=\\&quot;http://www.openstreetmap.org/copyright\\&quot;\\u003eOpenStreetMap\\u003c/a\\u003e contributors \\u0026copy; \\u003ca href=\\&quot;http://cartodb.com/attributions\\&quot;\\u003eCartoDB\\u003c/a\\u003e, CartoDB \\u003ca href =\\&quot;http://cartodb.com/attributions\\&quot;\\u003eattributions\\u003c/a\\u003e&quot;, &quot;detectRetina&quot;: false, &quot;maxNativeZoom&quot;: 18, &quot;maxZoom&quot;: 18, &quot;minZoom&quot;: 0, &quot;noWrap&quot;: false, &quot;opacity&quot;: 1, &quot;subdomains&quot;: &quot;abc&quot;, &quot;tms&quot;: false}\n",
       "            ).addTo(map_05d92ff7273306de59c07380d5ae1d4d);\n",
       "        \n",
       "    \n",
       "\n",
       "        function geo_json_3198ae3b4ecdedaabe6a3f907c8a8b8a_onEachFeature(feature, layer) {\n",
       "            layer.on({\n",
       "            });\n",
       "        };\n",
       "        var geo_json_3198ae3b4ecdedaabe6a3f907c8a8b8a = L.geoJson(null, {\n",
       "                onEachFeature: geo_json_3198ae3b4ecdedaabe6a3f907c8a8b8a_onEachFeature,\n",
       "            \n",
       "        });\n",
       "\n",
       "        function geo_json_3198ae3b4ecdedaabe6a3f907c8a8b8a_add (data) {\n",
       "            geo_json_3198ae3b4ecdedaabe6a3f907c8a8b8a\n",
       "                .addData(data)\n",
       "                .addTo(map_05d92ff7273306de59c07380d5ae1d4d);\n",
       "        }\n",
       "            geo_json_3198ae3b4ecdedaabe6a3f907c8a8b8a_add({&quot;bbox&quot;: [-93.756396, 41.918, -93.755795, 41.918475], &quot;features&quot;: [{&quot;bbox&quot;: [-93.756396, 41.918, -93.755795, 41.918475], &quot;geometry&quot;: {&quot;coordinates&quot;: [[[-93.756055, 41.918115], [-93.756155, 41.918215], [-93.756396, 41.918475], [-93.755955, 41.9183], [-93.755795, 41.918], [-93.756055, 41.918115]]], &quot;type&quot;: &quot;Polygon&quot;}, &quot;id&quot;: &quot;0&quot;, &quot;properties&quot;: {}, &quot;type&quot;: &quot;Feature&quot;}], &quot;type&quot;: &quot;FeatureCollection&quot;});\n",
       "\n",
       "        \n",
       "    \n",
       "                var lat_lng_popup_62adbfbe0a43b3ee7fa873ecdb19ecac = L.popup();\n",
       "                function latLngPop(e) {\n",
       "                    lat_lng_popup_62adbfbe0a43b3ee7fa873ecdb19ecac\n",
       "                        .setLatLng(e.latlng)\n",
       "                        .setContent(&quot;Latitude: &quot; + e.latlng.lat.toFixed(4) +\n",
       "                                    &quot;&lt;br&gt;Longitude: &quot; + e.latlng.lng.toFixed(4))\n",
       "                        .openOn(map_05d92ff7273306de59c07380d5ae1d4d);\n",
       "                    }\n",
       "                map_05d92ff7273306de59c07380d5ae1d4d.on(&#x27;click&#x27;, latLngPop);\n",
       "            \n",
       "&lt;/script&gt;\" style=\"position:absolute;width:100%;height:100%;left:0;top:0;border:none !important;\" allowfullscreen webkitallowfullscreen mozallowfullscreen></iframe></div></div>"
      ],
      "text/plain": [
       "<folium.folium.Map at 0x1cbbc765f30>"
      ]
     },
     "execution_count": 26,
     "metadata": {},
     "output_type": "execute_result"
    }
   ],
   "source": [
    "# A function to display the polygon on a map\n",
    "\n",
    "def show_on_map(polygon, zoom):\n",
    "    #region selection\n",
    "    poly = mapping((polygon.iloc[:,0][0]))\n",
    "    tmp = poly['coordinates'][0][0]\n",
    "    anchor = [tmp[1], tmp[0]]\n",
    "    map = folium.Map(anchor,zoom_start=zoom, tiles='cartodbpositron')\n",
    "    folium.GeoJson(polygon).add_to(map)\n",
    "    folium.LatLngPopup().add_to(map)\n",
    "    return map\n",
    "\n",
    "show_on_map(polygon, 20)"
   ]
  },
  {
   "cell_type": "code",
   "execution_count": 27,
   "metadata": {},
   "outputs": [
    {
     "name": "stdout",
     "output_type": "stream",
     "text": [
      "[[-10436876.301386151, 5148721.349314567], [-10436887.43333523, 5148736.309605352], [-10436914.26133251, 5148775.206471106], [-10436865.169437071, 5148749.025870951], [-10436847.358318545, 5148704.145009145]]\n"
     ]
    }
   ],
   "source": [
    "# Changing the co-ordinates of the polygon to the standard EPSG CRS format and generating a polgon\n",
    "\n",
    "coor = loop_EPSG_converter(coordinates)\n",
    "print(coor)\n",
    "polygon_standard = generate_polygon(coor, 4326)"
   ]
  },
  {
   "cell_type": "code",
   "execution_count": 29,
   "metadata": {},
   "outputs": [
    {
     "name": "stdout",
     "output_type": "stream",
     "text": [
      "{'pipeline': [{'polygon': 'POLYGON ((-10436876.301386151 5148721.349314567, -10436887.43333523 5148736.309605352, -10436914.26133251 5148775.206471106, -10436865.169437071 5148749.025870951, -10436847.358318545 5148704.145009145, -10436876.301386151 5148721.349314567))', 'filename': 'https://s3-us-west-2.amazonaws.com/usgs-lidar-public/IA_FullState/ept.json', 'type': 'readers.ept', 'tag': 'readdata'}, {'type': 'filters.range', 'limits': 'Classification![7:7]', 'tag': 'no_noise'}, {'in_srs': 'EPSG:3857', 'out_srs': 'EPSG:4326', 'tag': 'reprojectUTM', 'type': 'filters.reprojection'}, {'filename': 'iowa.csv', 'tag': 'writerscsv', 'type': 'writers.text'}, {'filename': 'iowa.las', 'tag': 'writersply', 'type': 'writers.las'}]}\n"
     ]
    }
   ],
   "source": [
    "# Modifying the json file to fetch the data\n",
    "\n",
    "def modify_pipe_json(json_loc, url, region, in_epsg, out_epsg):\n",
    "    dicti = read_json(json_loc)\n",
    "    dicti['pipeline'][0]['polygon'] = str(polygon_standard.iloc[:,0][0])\n",
    "    dicti['pipeline'][0]['filename'] = f\"{url}/{region}/ept.json\"\n",
    "    dicti['pipeline'][2]['in_srs'] = f\"EPSG:{in_epsg}\"\n",
    "    dicti['pipeline'][2]['out_srs'] = f\"EPSG:{out_epsg}\"\n",
    "    print(dicti)\n",
    "    return dicti\n",
    "    \n",
    "location = \"../iowa.json\"\n",
    "url = \"https://s3-us-west-2.amazonaws.com/usgs-lidar-public\"\n",
    "region = \"IA_FullState\"\n",
    "in_srs = 3857\n",
    "out_srs = 4326\n",
    "\n",
    "request = modify_pipe_json(location, url, region, in_srs, out_srs)"
   ]
  },
  {
   "cell_type": "code",
   "execution_count": 30,
   "metadata": {},
   "outputs": [],
   "source": [
    "pipe = pdal.Pipeline(json.dumps(request))"
   ]
  },
  {
   "cell_type": "code",
   "execution_count": 31,
   "metadata": {},
   "outputs": [
    {
     "data": {
      "text/plain": [
       "1371"
      ]
     },
     "execution_count": 31,
     "metadata": {},
     "output_type": "execute_result"
    }
   ],
   "source": [
    "pipe.execute()"
   ]
  },
  {
   "cell_type": "code",
   "execution_count": 32,
   "metadata": {},
   "outputs": [],
   "source": [
    "# Generating the dataframe\n",
    "\n",
    "df = generate_geo_df(pipe, 4326)"
   ]
  }
 ],
 "metadata": {
  "kernelspec": {
   "display_name": "Python ('iowa')",
   "language": "python",
   "name": "python3"
  },
  "language_info": {
   "codemirror_mode": {
    "name": "ipython",
    "version": 3
   },
   "file_extension": ".py",
   "mimetype": "text/x-python",
   "name": "python",
   "nbconvert_exporter": "python",
   "pygments_lexer": "ipython3",
   "version": "3.10.5"
  },
  "orig_nbformat": 4,
  "vscode": {
   "interpreter": {
    "hash": "25a19fbe0a9132dfb9279d48d161753c6352f8f9478c2e74383d340069b907c3"
   }
  }
 },
 "nbformat": 4,
 "nbformat_minor": 2
}
