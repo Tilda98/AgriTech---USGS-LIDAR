{
 "cells": [
  {
   "cell_type": "code",
   "execution_count": 11,
   "metadata": {},
   "outputs": [],
   "source": [
    "import pdal\n",
    "import json\n",
    "from pyproj import Proj, transform\n",
    "from shapely.geometry import Polygon, Point, mapping"
   ]
  },
  {
   "cell_type": "code",
   "execution_count": 3,
   "metadata": {},
   "outputs": [],
   "source": [
    "# Loading and reading the json file\n",
    "def read_json(json_path):\n",
    "    try:\n",
    "        with open(json_path) as js:\n",
    "            json_obj = json.load(js)\n",
    "        return json_obj\n",
    "\n",
    "    except FileNotFoundError:\n",
    "        print('File not found.')"
   ]
  },
  {
   "cell_type": "code",
   "execution_count": 8,
   "metadata": {},
   "outputs": [],
   "source": [
    "# Changing to the needed CRS format for better visualization\n",
    "\n",
    "def convert_EPSG(fromT, lon, lat):\n",
    "    P3857 = Proj(init='epsg:3857')\n",
    "    P4326 = Proj(init='epsg:4326')\n",
    "    if(fromT == 4326):\n",
    "        input1 = P4326\n",
    "        input2 = P3857\n",
    "    else:\n",
    "        input1=p3857\n",
    "        input2=p4326\n",
    "        \n",
    "    x, y = transform(input1,input2, lon, lat)\n",
    "    return [x, y]"
   ]
  },
  {
   "cell_type": "code",
   "execution_count": 9,
   "metadata": {},
   "outputs": [],
   "source": [
    "# Changing format of a list\n",
    "    \n",
    "def loop_EPSG_converter(listin):\n",
    "    converted = []\n",
    "    for item in listin:\n",
    "        converted.append(convert_EPSG(4326, item[0], item[1]))\n",
    "        \n",
    "    return converted"
   ]
  },
  {
   "cell_type": "code",
   "execution_count": 12,
   "metadata": {},
   "outputs": [],
   "source": [
    "# Generating a polygon given a co-ordinate and CRS format\n",
    "\n",
    "def generate_polygon(coor, epsg):\n",
    "    polygon_g = Polygon(coor)\n",
    "    crs = {'init': 'epsg:'+str(epsg)}\n",
    "    polygon = gpd.GeoDataFrame(index=[0], crs=crs, geometry=[polygon_g])       \n",
    "    return polygon"
   ]
  },
  {
   "cell_type": "code",
   "execution_count": 13,
   "metadata": {},
   "outputs": [],
   "source": [
    "# Generating a data frame given a CRS format and pipe\n",
    "\n",
    "def generate_geo_df(pipe, epsg):\n",
    "    try:\n",
    "        cloud_points = []\n",
    "        elevations =[]\n",
    "        geometry_points=[]\n",
    "        for row in pipe.arrays[0]:\n",
    "            lst = row.tolist()[-3:]\n",
    "            cloud_points.append(lst)\n",
    "            elevations.append(lst[2])\n",
    "            point = Point(lst[0], lst[1])\n",
    "            geometry_points.append(point)\n",
    "        geodf = gpd.GeoDataFrame(columns=[\"elevation\", \"geometry\"])\n",
    "        geodf['elevation'] = elevations\n",
    "        geodf['geometry'] = geometry_points\n",
    "        geodf = geodf.set_geometry(\"geometry\")\n",
    "        geodf.set_crs(epsg = epsg, inplace=True)\n",
    "        return geodf\n",
    "    except RuntimeError as e:\n",
    "        print(e)"
   ]
  }
 ],
 "metadata": {
  "kernelspec": {
   "display_name": "Python ('iowa')",
   "language": "python",
   "name": "python3"
  },
  "language_info": {
   "codemirror_mode": {
    "name": "ipython",
    "version": 3
   },
   "file_extension": ".py",
   "mimetype": "text/x-python",
   "name": "python",
   "nbconvert_exporter": "python",
   "pygments_lexer": "ipython3",
   "version": "3.10.5"
  },
  "orig_nbformat": 4,
  "vscode": {
   "interpreter": {
    "hash": "25a19fbe0a9132dfb9279d48d161753c6352f8f9478c2e74383d340069b907c3"
   }
  }
 },
 "nbformat": 4,
 "nbformat_minor": 2
}
